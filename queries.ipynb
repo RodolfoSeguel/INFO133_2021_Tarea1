{
 "cells": [
  {
   "cell_type": "code",
   "execution_count": null,
   "id": "6591439c",
   "metadata": {},
   "outputs": [],
   "source": [
    "import folium\n",
    "from folium import plugins\n",
    "import ipywidgets\n",
    "import geocoder\n",
    "import geopy\n",
    "import numpy as np\n",
    "import pandas as pd\n",
    "from vega_datasets import data as vds\n",
    "from pymongo import MongoClient\n",
    "\n",
    "client = MongoClient('localhost')\n",
    "\n",
    "db = client['rs_FuSA']\n",
    "\n",
    "col_archivos_audio = db['archivos_audio']\n",
    "\n",
    "vmap = folium.Map(location=[-39.825390, -73.231522], zoom_start=12, width=900, height=550, control_scale=True)\n",
    "\n",
    "r = input(\"¿Consultar día específico o por catergorías? (d/c): \")\n",
    "\n",
    "if(r=='d'):\n",
    "    day = input(\"Ingrese la fecha a consultar (aaaa-mm-dd): \")\n",
    "    for i in db.archivos_audio.find({\"fecha_grabacion\": day},{\"duracion\":1,\"fecha_grabacion\":1,\"latitud\":1,\"longitud\":1}):\n",
    "        folium.Marker(\n",
    "            location=[i['latitud'],i['longitud']],\n",
    "            popup=str(i['duracion'])+' s\\n'+i['fecha_grabacion']).add_to(vmap)\n",
    "\n",
    "if(r=='c'):\n",
    "    categories = []\n",
    "    n = int(input(\"¿Cuántas categorías desea consultar?: \"))\n",
    "    for i in range(n):\n",
    "        print(\"Ingrese categoría \",i+1,\": \",sep='',end='')\n",
    "        categories.append(input())\n",
    "    ID_list = []\n",
    "    for i in db.tipos_de_fuentes.find({'tipo':{'$in':categories}}):\n",
    "        for j in i['archivos']:\n",
    "            if(j not in ID_list):\n",
    "                ID_list.append(j)\n",
    "    for i in db.archivos_audio.find({'ID_archivo':{'$in':ID_list}},{\"duracion\":1,\"fecha_grabacion\":1,\"latitud\":1,\"longitud\":1}):\n",
    "        folium.Marker(\n",
    "            location=[i['latitud'],i['longitud']],\n",
    "            popup=str(i['duracion'])+' s\\n'+i['fecha_grabacion']).add_to(vmap)\n",
    "\n",
    "vmap"
   ]
  }
 ],
 "metadata": {
  "kernelspec": {
   "display_name": "Python 3 (ipykernel)",
   "language": "python",
   "name": "python3"
  },
  "language_info": {
   "codemirror_mode": {
    "name": "ipython",
    "version": 3
   },
   "file_extension": ".py",
   "mimetype": "text/x-python",
   "name": "python",
   "nbconvert_exporter": "python",
   "pygments_lexer": "ipython3",
   "version": "3.9.5"
  }
 },
 "nbformat": 4,
 "nbformat_minor": 5
}
